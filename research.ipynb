{
  "nbformat": 4,
  "nbformat_minor": 0,
  "metadata": {
    "colab": {
      "name": "Untitled3.ipynb",
      "provenance": [],
      "collapsed_sections": [],
      "mount_file_id": "1V5ZrltKHymBPLTJM-w1UTp-VrrTaomZH",
      "authorship_tag": "ABX9TyNdDqk8Y61YVPD3MonRV7Dc",
      "include_colab_link": true
    },
    "kernelspec": {
      "name": "python3",
      "display_name": "Python 3"
    },
    "language_info": {
      "name": "python"
    },
    "accelerator": "GPU"
  },
  "cells": [
    {
      "cell_type": "markdown",
      "metadata": {
        "id": "view-in-github",
        "colab_type": "text"
      },
      "source": [
        "<a href=\"https://colab.research.google.com/github/UmbertoB/neural-networks-research/blob/main/research.ipynb\" target=\"_parent\"><img src=\"https://colab.research.google.com/assets/colab-badge.svg\" alt=\"Open In Colab\"/></a>"
      ]
    },
    {
      "cell_type": "code",
      "source": [
        "!rm -rf cloned_repo\n",
        "!git clone -l -s https://github.com/UmbertoB/neural-networks-research.git cloned_repo\n",
        "import cloned_repo.model_factory as model_factory\n",
        "import cloned_repo.metrics_builder as metrics_builder\n",
        "from cloned_repo.utils.plot_history import plot_history"
      ],
      "metadata": {
        "colab": {
          "base_uri": "https://localhost:8080/"
        },
        "id": "nD7wtK4MmYIb",
        "outputId": "e513fa37-808c-46b0-8a72-c82ea351fe9a"
      },
      "execution_count": 36,
      "outputs": [
        {
          "output_type": "stream",
          "name": "stdout",
          "text": [
            "Cloning into 'cloned_repo'...\n",
            "warning: --local is ignored\n",
            "remote: Enumerating objects: 74, done.\u001b[K\n",
            "remote: Counting objects: 100% (74/74), done.\u001b[K\n",
            "remote: Compressing objects: 100% (52/52), done.\u001b[K\n",
            "remote: Total 74 (delta 29), reused 59 (delta 18), pack-reused 0\u001b[K\n",
            "Unpacking objects: 100% (74/74), done.\n"
          ]
        }
      ]
    },
    {
      "cell_type": "code",
      "source": [
        "from tensorflow.keras.preprocessing.image import ImageDataGenerator\n",
        "import tensorflow as tf\n",
        "from tensorflow.keras import models\n",
        "from tensorflow.keras.layers import Input, Conv2D, MaxPooling2D, ZeroPadding2D, Flatten, Dense, Activation, Dropout, \\\n",
        "    GlobalAveragePooling2D\n",
        "from tensorflow.keras.optimizers import SGD, Adam\n",
        "from tensorflow.keras.callbacks import ModelCheckpoint, ReduceLROnPlateau, EarlyStopping\n",
        "\n",
        "batch_size = 15\n",
        "alpha = 1e-3\n",
        "epochs = 30\n",
        "input_shape = (200, 200, 3)\n",
        "layers = [Flatten(input_shape=input_shape),\n",
        "        Dense(64, activation='relu'),\n",
        "        Dense(1, activation='sigmoid')]\n",
        "\n",
        "history, model, train_images, validation_images, test_images = model_factory.generate_model('drive/MyDrive/DATASET', input_shape, batch_size, alpha, epochs, layers)\n",
        "# model = models.load_model('model_one.hdf5')"
      ],
      "metadata": {
        "colab": {
          "base_uri": "https://localhost:8080/"
        },
        "id": "CNgehZgNBub1",
        "outputId": "1e4533d9-8b47-401a-af56-365713379fac"
      },
      "execution_count": 7,
      "outputs": [
        {
          "output_type": "stream",
          "name": "stdout",
          "text": [
            "Model: \"sequential\"\n",
            "_________________________________________________________________\n",
            " Layer (type)                Output Shape              Param #   \n",
            "=================================================================\n",
            " flatten_1 (Flatten)         (None, 120000)            0         \n",
            "                                                                 \n",
            " dense_2 (Dense)             (None, 64)                7680064   \n",
            "                                                                 \n",
            " dense_3 (Dense)             (None, 1)                 65        \n",
            "                                                                 \n",
            "=================================================================\n",
            "Total params: 7,680,129\n",
            "Trainable params: 7,680,129\n",
            "Non-trainable params: 0\n",
            "_________________________________________________________________\n",
            "Modelo Compilado...\n",
            "drive/MyDrive/DATASET\n",
            "Found 2100 images belonging to 2 classes.\n",
            "Found 600 images belonging to 2 classes.\n",
            "Found 300 images belonging to 2 classes.\n",
            "Iniciando treino do Modelo...\n",
            "Epoch 1/30\n",
            "140/140 [==============================] - ETA: 0s - loss: 5.6376 - acc: 0.6500\n",
            "Epoch 1: val_acc improved from -inf to 0.55667, saving model to model_one.hdf5\n",
            "140/140 [==============================] - 42s 289ms/step - loss: 5.6376 - acc: 0.6500 - val_loss: 10.0833 - val_acc: 0.5567 - lr: 0.0010\n",
            "Epoch 2/30\n",
            "140/140 [==============================] - ETA: 0s - loss: 4.0427 - acc: 0.6986\n",
            "Epoch 2: val_acc improved from 0.55667 to 0.73333, saving model to model_one.hdf5\n",
            "140/140 [==============================] - 39s 280ms/step - loss: 4.0427 - acc: 0.6986 - val_loss: 1.8645 - val_acc: 0.7333 - lr: 0.0010\n",
            "Epoch 3/30\n",
            "140/140 [==============================] - ETA: 0s - loss: 2.7041 - acc: 0.6986\n",
            "Epoch 3: val_acc improved from 0.73333 to 0.77333, saving model to model_one.hdf5\n",
            "140/140 [==============================] - 38s 275ms/step - loss: 2.7041 - acc: 0.6986 - val_loss: 1.2027 - val_acc: 0.7733 - lr: 0.0010\n",
            "Epoch 4/30\n",
            "140/140 [==============================] - ETA: 0s - loss: 1.6949 - acc: 0.7229\n",
            "Epoch 4: val_acc did not improve from 0.77333\n",
            "140/140 [==============================] - 38s 273ms/step - loss: 1.6949 - acc: 0.7229 - val_loss: 4.1822 - val_acc: 0.6233 - lr: 0.0010\n",
            "Epoch 5/30\n",
            "140/140 [==============================] - ETA: 0s - loss: 1.7465 - acc: 0.7367\n",
            "Epoch 5: val_acc did not improve from 0.77333\n",
            "140/140 [==============================] - 38s 274ms/step - loss: 1.7465 - acc: 0.7367 - val_loss: 1.7516 - val_acc: 0.6800 - lr: 0.0010\n",
            "Epoch 6/30\n",
            "140/140 [==============================] - ETA: 0s - loss: 1.4467 - acc: 0.7429\n",
            "Epoch 6: val_acc did not improve from 0.77333\n",
            "140/140 [==============================] - 39s 282ms/step - loss: 1.4467 - acc: 0.7429 - val_loss: 3.5271 - val_acc: 0.6000 - lr: 0.0010\n",
            "Epoch 6: early stopping\n",
            "20/20 [==============================] - 5s 230ms/step - loss: 2.9602 - acc: 0.5900\n"
          ]
        }
      ]
    },
    {
      "cell_type": "code",
      "source": [
        "from sklearn.metrics import classification_report, confusion_matrix\n",
        "\n",
        "image_gen = ImageDataGenerator(rescale=1 / 255)\n",
        "test_generator = image_gen.flow_from_directory('drive/MyDrive/DATASET/test', target_size=(200, 200),\n",
        "                                        shuffle=False,\n",
        "                                        class_mode='binary',\n",
        "                                        batch_size=batch_size,\n",
        "                                        save_to_dir=None)\n",
        "print('\\n')\n",
        "metrics_builder.generate_confusion_matrix(model, test_generator, batch_size)\n",
        "\n",
        "print('\\n')\n",
        "metrics_builder.generate_classification_report(model, test_generator, batch_size)"
      ],
      "metadata": {
        "id": "Mg49vIIX0Jj1",
        "colab": {
          "base_uri": "https://localhost:8080/"
        },
        "outputId": "c1913006-5835-4dc1-9f02-292d6337bcbd"
      },
      "execution_count": 18,
      "outputs": [
        {
          "output_type": "stream",
          "name": "stdout",
          "text": [
            "Found 300 images belonging to 2 classes.\n",
            "\n",
            "\n",
            "Confusion Matrix\n",
            "[[144   6]\n",
            " [102  48]]\n",
            "\n",
            "\n",
            "Note that in binary classification, recall of the positive class is also known as “sensitivity”; recall of the negative class is “specificity”.\n",
            "Classification Report\n",
            "              precision    recall  f1-score   support\n",
            "\n",
            "         Yes       0.59      0.96      0.73       150\n",
            "          No       0.89      0.32      0.47       150\n",
            "\n",
            "    accuracy                           0.64       300\n",
            "   macro avg       0.74      0.64      0.60       300\n",
            "weighted avg       0.74      0.64      0.60       300\n",
            "\n"
          ]
        }
      ]
    },
    {
      "cell_type": "code",
      "source": [
        "plot_history(history)"
      ],
      "metadata": {
        "colab": {
          "base_uri": "https://localhost:8080/",
          "height": 573
        },
        "id": "JT48roX873AD",
        "outputId": "1f973e49-009d-4976-acf2-57cd22c5d150"
      },
      "execution_count": 20,
      "outputs": [
        {
          "output_type": "display_data",
          "data": {
            "text/plain": [
              "<Figure size 432x288 with 1 Axes>"
            ],
            "image/png": "[encoded data removed]"
          },
          "metadata": {
            "needs_background": "light"
          }
        },
        {
          "output_type": "display_data",
          "data": {
            "text/plain": [
              "<Figure size 432x288 with 1 Axes>"
            ],
            "image/png": "[encoded data removed]"
          },
          "metadata": {
            "needs_background": "light"
          }
        }
      ]
    },
    {
      "cell_type": "code",
      "source": [
        "accuracy(model, (200, 200, 3))"
      ],
      "metadata": {
        "colab": {
          "base_uri": "https://localhost:8080/",
          "height": 168
        },
        "id": "p_b5ajphA-b_",
        "outputId": "b2964c43-a6e4-49e8-8071-92916745e0c6"
      },
      "execution_count": 34,
      "outputs": [
        {
          "output_type": "error",
          "ename": "NameError",
          "evalue": "ignored",
          "traceback": [
            "\u001b[0;31m---------------------------------------------------------------------------\u001b[0m",
            "\u001b[0;31mNameError\u001b[0m                                 Traceback (most recent call last)",
            "\u001b[0;32m<ipython-input-34-a68c722a19b1>\u001b[0m in \u001b[0;36m<module>\u001b[0;34m()\u001b[0m\n\u001b[0;32m----> 1\u001b[0;31m \u001b[0maccuracy\u001b[0m\u001b[0;34m(\u001b[0m\u001b[0mmodel\u001b[0m\u001b[0;34m,\u001b[0m \u001b[0;34m(\u001b[0m\u001b[0;36m200\u001b[0m\u001b[0;34m,\u001b[0m \u001b[0;36m200\u001b[0m\u001b[0;34m,\u001b[0m \u001b[0;36m3\u001b[0m\u001b[0;34m)\u001b[0m\u001b[0;34m)\u001b[0m\u001b[0;34m\u001b[0m\u001b[0;34m\u001b[0m\u001b[0m\n\u001b[0m",
            "\u001b[0;31mNameError\u001b[0m: name 'accuracy' is not defined"
          ]
        }
      ]
    }
  ]
}