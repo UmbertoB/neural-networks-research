{
 "cells": [
  {
   "cell_type": "code",
   "execution_count": 2,
   "id": "7abfc47b",
   "metadata": {},
   "outputs": [],
   "source": [
    "import os"
   ]
  },
  {
   "cell_type": "code",
   "execution_count": 4,
   "id": "a7312503",
   "metadata": {},
   "outputs": [],
   "source": [
    "data_dir = './DATASET'"
   ]
  },
  {
   "cell_type": "code",
   "execution_count": 5,
   "id": "d8ef359f",
   "metadata": {},
   "outputs": [
    {
     "output_type": "execute_result",
     "data": {
      "text/plain": [
       "['.DS_Store', 'test', 'train']"
      ]
     },
     "metadata": {},
     "execution_count": 5
    }
   ],
   "source": [
    "os.listdir(data_dir)"
   ]
  },
  {
   "cell_type": "code",
   "execution_count": 6,
   "id": "748f9f44",
   "metadata": {},
   "outputs": [
    {
     "output_type": "error",
     "ename": "KeyboardInterrupt",
     "evalue": "",
     "traceback": [
      "\u001b[0;31m---------------------------------------------------------------------------\u001b[0m",
      "\u001b[0;31mKeyboardInterrupt\u001b[0m                         Traceback (most recent call last)",
      "\u001b[0;32m<ipython-input-6-114b4bb00877>\u001b[0m in \u001b[0;36m<module>\u001b[0;34m\u001b[0m\n\u001b[0;32m----> 1\u001b[0;31m \u001b[0;32mimport\u001b[0m \u001b[0mpandas\u001b[0m \u001b[0;32mas\u001b[0m \u001b[0mpd\u001b[0m\u001b[0;34m\u001b[0m\u001b[0;34m\u001b[0m\u001b[0m\n\u001b[0m\u001b[1;32m      2\u001b[0m \u001b[0;32mimport\u001b[0m \u001b[0mnumpy\u001b[0m \u001b[0;32mas\u001b[0m \u001b[0mnp\u001b[0m\u001b[0;34m\u001b[0m\u001b[0;34m\u001b[0m\u001b[0m\n\u001b[1;32m      3\u001b[0m \u001b[0;32mimport\u001b[0m \u001b[0mseaborn\u001b[0m \u001b[0;32mas\u001b[0m \u001b[0msns\u001b[0m\u001b[0;34m\u001b[0m\u001b[0;34m\u001b[0m\u001b[0m\n\u001b[1;32m      4\u001b[0m \u001b[0;32mimport\u001b[0m \u001b[0mmatplotlib\u001b[0m\u001b[0;34m.\u001b[0m\u001b[0mpyplot\u001b[0m \u001b[0;32mas\u001b[0m \u001b[0mplt\u001b[0m\u001b[0;34m\u001b[0m\u001b[0;34m\u001b[0m\u001b[0m\n",
      "\u001b[0;32m~/.pyenv/versions/3.7.3/lib/python3.7/site-packages/pandas/__init__.py\u001b[0m in \u001b[0;36m<module>\u001b[0;34m\u001b[0m\n\u001b[1;32m     27\u001b[0m \u001b[0;34m\u001b[0m\u001b[0m\n\u001b[1;32m     28\u001b[0m \u001b[0;32mtry\u001b[0m\u001b[0;34m:\u001b[0m\u001b[0;34m\u001b[0m\u001b[0;34m\u001b[0m\u001b[0m\n\u001b[0;32m---> 29\u001b[0;31m     \u001b[0;32mfrom\u001b[0m \u001b[0mpandas\u001b[0m\u001b[0;34m.\u001b[0m\u001b[0m_libs\u001b[0m \u001b[0;32mimport\u001b[0m \u001b[0mhashtable\u001b[0m \u001b[0;32mas\u001b[0m \u001b[0m_hashtable\u001b[0m\u001b[0;34m,\u001b[0m \u001b[0mlib\u001b[0m \u001b[0;32mas\u001b[0m \u001b[0m_lib\u001b[0m\u001b[0;34m,\u001b[0m \u001b[0mtslib\u001b[0m \u001b[0;32mas\u001b[0m \u001b[0m_tslib\u001b[0m\u001b[0;34m\u001b[0m\u001b[0;34m\u001b[0m\u001b[0m\n\u001b[0m\u001b[1;32m     30\u001b[0m \u001b[0;32mexcept\u001b[0m \u001b[0mImportError\u001b[0m \u001b[0;32mas\u001b[0m \u001b[0me\u001b[0m\u001b[0;34m:\u001b[0m  \u001b[0;31m# pragma: no cover\u001b[0m\u001b[0;34m\u001b[0m\u001b[0;34m\u001b[0m\u001b[0m\n\u001b[1;32m     31\u001b[0m     \u001b[0;31m# hack but overkill to use re\u001b[0m\u001b[0;34m\u001b[0m\u001b[0;34m\u001b[0m\u001b[0;34m\u001b[0m\u001b[0m\n",
      "\u001b[0;32m~/.pyenv/versions/3.7.3/lib/python3.7/site-packages/pandas/_libs/__init__.py\u001b[0m in \u001b[0;36m<module>\u001b[0;34m\u001b[0m\n\u001b[1;32m     11\u001b[0m \u001b[0;34m\u001b[0m\u001b[0m\n\u001b[1;32m     12\u001b[0m \u001b[0;34m\u001b[0m\u001b[0m\n\u001b[0;32m---> 13\u001b[0;31m \u001b[0;32mfrom\u001b[0m \u001b[0mpandas\u001b[0m\u001b[0;34m.\u001b[0m\u001b[0m_libs\u001b[0m\u001b[0;34m.\u001b[0m\u001b[0minterval\u001b[0m \u001b[0;32mimport\u001b[0m \u001b[0mInterval\u001b[0m\u001b[0;34m\u001b[0m\u001b[0;34m\u001b[0m\u001b[0m\n\u001b[0m\u001b[1;32m     14\u001b[0m from pandas._libs.tslibs import (\n\u001b[1;32m     15\u001b[0m     \u001b[0mNaT\u001b[0m\u001b[0;34m,\u001b[0m\u001b[0;34m\u001b[0m\u001b[0;34m\u001b[0m\u001b[0m\n",
      "\u001b[0;32mpandas/_libs/interval.pyx\u001b[0m in \u001b[0;36minit pandas._libs.interval\u001b[0;34m()\u001b[0m\n",
      "\u001b[0;32mpandas/_libs/hashtable.pyx\u001b[0m in \u001b[0;36minit pandas._libs.hashtable\u001b[0;34m()\u001b[0m\n",
      "\u001b[0;32mpandas/_libs/missing.pyx\u001b[0m in \u001b[0;36minit pandas._libs.missing\u001b[0;34m()\u001b[0m\n",
      "\u001b[0;32m~/.pyenv/versions/3.7.3/lib/python3.7/site-packages/pandas/_libs/tslibs/__init__.py\u001b[0m in \u001b[0;36m<module>\u001b[0;34m\u001b[0m\n\u001b[1;32m     28\u001b[0m \u001b[0;34m\u001b[0m\u001b[0m\n\u001b[1;32m     29\u001b[0m \u001b[0;32mfrom\u001b[0m \u001b[0;34m.\u001b[0m \u001b[0;32mimport\u001b[0m \u001b[0mdtypes\u001b[0m\u001b[0;34m\u001b[0m\u001b[0;34m\u001b[0m\u001b[0m\n\u001b[0;32m---> 30\u001b[0;31m \u001b[0;32mfrom\u001b[0m \u001b[0;34m.\u001b[0m\u001b[0mconversion\u001b[0m \u001b[0;32mimport\u001b[0m \u001b[0mOutOfBoundsTimedelta\u001b[0m\u001b[0;34m,\u001b[0m \u001b[0mlocalize_pydatetime\u001b[0m\u001b[0;34m\u001b[0m\u001b[0;34m\u001b[0m\u001b[0m\n\u001b[0m\u001b[1;32m     31\u001b[0m \u001b[0;32mfrom\u001b[0m \u001b[0;34m.\u001b[0m\u001b[0mdtypes\u001b[0m \u001b[0;32mimport\u001b[0m \u001b[0mResolution\u001b[0m\u001b[0;34m\u001b[0m\u001b[0;34m\u001b[0m\u001b[0m\n\u001b[1;32m     32\u001b[0m \u001b[0;32mfrom\u001b[0m \u001b[0;34m.\u001b[0m\u001b[0mnattype\u001b[0m \u001b[0;32mimport\u001b[0m \u001b[0mNaT\u001b[0m\u001b[0;34m,\u001b[0m \u001b[0mNaTType\u001b[0m\u001b[0;34m,\u001b[0m \u001b[0miNaT\u001b[0m\u001b[0;34m,\u001b[0m \u001b[0mis_null_datetimelike\u001b[0m\u001b[0;34m,\u001b[0m \u001b[0mnat_strings\u001b[0m\u001b[0;34m\u001b[0m\u001b[0;34m\u001b[0m\u001b[0m\n",
      "\u001b[0;32mpandas/_libs/tslibs/conversion.pyx\u001b[0m in \u001b[0;36minit pandas._libs.tslibs.conversion\u001b[0;34m()\u001b[0m\n",
      "\u001b[0;32mpandas/_libs/tslibs/parsing.pyx\u001b[0m in \u001b[0;36minit pandas._libs.tslibs.parsing\u001b[0;34m()\u001b[0m\n",
      "\u001b[0;32mpandas/_libs/tslibs/offsets.pyx\u001b[0m in \u001b[0;36minit pandas._libs.tslibs.offsets\u001b[0;34m()\u001b[0m\n",
      "\u001b[0;32m~/.pyenv/versions/3.7.3/lib/python3.7/importlib/_bootstrap.py\u001b[0m in \u001b[0;36mparent\u001b[0;34m(self)\u001b[0m\n",
      "\u001b[0;31mKeyboardInterrupt\u001b[0m: "
     ]
    }
   ],
   "source": [
    "import pandas as pd\n",
    "import numpy as np\n",
    "import seaborn as sns\n",
    "import matplotlib.pyplot as plt"
   ]
  },
  {
   "cell_type": "code",
   "execution_count": null,
   "id": "b21014b4",
   "metadata": {},
   "outputs": [],
   "source": [
    "from matplotlib.image import imread"
   ]
  },
  {
   "cell_type": "code",
   "execution_count": 18,
   "id": "09a072d8",
   "metadata": {},
   "outputs": [],
   "source": [
    "test_path = data_dir+'/test'\n",
    "train_path = data_dir+'/train'"
   ]
  },
  {
   "cell_type": "code",
   "execution_count": 19,
   "id": "38eb28c9",
   "metadata": {},
   "outputs": [
    {
     "data": {
      "text/plain": [
       "'./DATASET/test'"
      ]
     },
     "execution_count": 19,
     "metadata": {},
     "output_type": "execute_result"
    }
   ],
   "source": [
    "test_path"
   ]
  },
  {
   "cell_type": "code",
   "execution_count": 20,
   "id": "03f1ebce",
   "metadata": {},
   "outputs": [
    {
     "data": {
      "text/plain": [
       "['no', 'yes']"
      ]
     },
     "execution_count": 20,
     "metadata": {},
     "output_type": "execute_result"
    }
   ],
   "source": [
    "os.listdir(test_path)"
   ]
  },
  {
   "cell_type": "code",
   "execution_count": 23,
   "id": "a22cd9fd",
   "metadata": {},
   "outputs": [
    {
     "data": {
      "text/plain": [
       "'y1343.jpg'"
      ]
     },
     "execution_count": 23,
     "metadata": {},
     "output_type": "execute_result"
    }
   ],
   "source": [
    "os.listdir(train_path + '/yes')[0]"
   ]
  },
  {
   "cell_type": "code",
   "execution_count": 27,
   "id": "7194b100",
   "metadata": {},
   "outputs": [],
   "source": [
    "has_cancer = train_path + '/yes/' + 'y1343.jpg'"
   ]
  },
  {
   "cell_type": "code",
   "execution_count": 28,
   "id": "856bdb6e",
   "metadata": {},
   "outputs": [
    {
     "data": {
      "text/plain": [
       "'./DATASET/train/yes/y1343.jpg'"
      ]
     },
     "execution_count": 28,
     "metadata": {},
     "output_type": "execute_result"
    }
   ],
   "source": [
    "has_cancer"
   ]
  },
  {
   "cell_type": "code",
   "execution_count": 31,
   "id": "7b39bcbb",
   "metadata": {},
   "outputs": [
    {
     "data": {
      "text/plain": [
       "<matplotlib.image.AxesImage at 0x17e70c7b8>"
      ]
     },
     "execution_count": 31,
     "metadata": {},
     "output_type": "execute_result"
    },
    {
     "data": {
      "image/png": "[encoded data removed]",
      "text/plain": [
       "<Figure size 432x288 with 1 Axes>"
      ]
     },
     "metadata": {
      "needs_background": "light"
     },
     "output_type": "display_data"
    }
   ],
   "source": [
    "plt.imshow(imread(has_cancer))"
   ]
  },
  {
   "cell_type": "code",
   "execution_count": 39,
   "id": "c03dfc98",
   "metadata": {},
   "outputs": [],
   "source": [
    "no_cancer = train_path + '/no/'+ 'no0.jpg'\n"
   ]
  },
  {
   "cell_type": "code",
   "execution_count": 40,
   "id": "9fc0f491",
   "metadata": {},
   "outputs": [
    {
     "data": {
      "text/plain": [
       "<matplotlib.image.AxesImage at 0x17e8b91d0>"
      ]
     },
     "execution_count": 40,
     "metadata": {},
     "output_type": "execute_result"
    },
    {
     "data": {
      "image/png": "[encoded data removed]",
      "text/plain": [
       "<Figure size 432x288 with 1 Axes>"
      ]
     },
     "metadata": {
      "needs_background": "light"
     },
     "output_type": "display_data"
    }
   ],
   "source": [
    "plt.imshow(imread(no_cancer))"
   ]
  },
  {
   "cell_type": "code",
   "execution_count": 47,
   "id": "a4f0cc09",
   "metadata": {},
   "outputs": [
    {
     "data": {
      "text/plain": [
       "469"
      ]
     },
     "execution_count": 47,
     "metadata": {},
     "output_type": "execute_result"
    }
   ],
   "source": [
    "len(os.listdir(test_path +'/yes'))"
   ]
  },
  {
   "cell_type": "code",
   "execution_count": 48,
   "id": "a6c9d1ea",
   "metadata": {},
   "outputs": [
    {
     "data": {
      "text/plain": [
       "86"
      ]
     },
     "execution_count": 48,
     "metadata": {},
     "output_type": "execute_result"
    }
   ],
   "source": [
    "len(os.listdir(test_path +'/no'))"
   ]
  },
  {
   "cell_type": "code",
   "execution_count": 49,
   "id": "ebc1e466",
   "metadata": {},
   "outputs": [
    {
     "data": {
      "text/plain": [
       "1186"
      ]
     },
     "execution_count": 49,
     "metadata": {},
     "output_type": "execute_result"
    }
   ],
   "source": [
    "len(os.listdir(train_path +'/yes'))"
   ]
  },
  {
   "cell_type": "code",
   "execution_count": 50,
   "id": "3b4a855b",
   "metadata": {},
   "outputs": [
    {
     "data": {
      "text/plain": [
       "1500"
      ]
     },
     "execution_count": 50,
     "metadata": {},
     "output_type": "execute_result"
    }
   ],
   "source": [
    "len(os.listdir(train_path +'/no'))"
   ]
  },
  {
   "cell_type": "code",
   "execution_count": 66,
   "id": "3c68d587",
   "metadata": {},
   "outputs": [],
   "source": [
    "dim1 = []\n",
    "dim2 = []\n",
    "\n",
    "for image_filename in os.listdir(test_path+'/no'):\n",
    "    img = imread(test_path + '/no/' + image_filename)\n",
    "    d = img.shape\n",
    "    dim1.append(d[0])\n",
    "    dim2.append(d[1])"
   ]
  },
  {
   "cell_type": "code",
   "execution_count": 68,
   "id": "4c306d4c",
   "metadata": {},
   "outputs": [
    {
     "name": "stderr",
     "output_type": "stream",
     "text": [
      "/Users/umberto/.pyenv/versions/3.7.3/lib/python3.7/site-packages/seaborn/_decorators.py:43: FutureWarning: Pass the following variables as keyword args: x, y. From version 0.12, the only valid positional argument will be `data`, and passing other arguments without an explicit keyword will result in an error or misinterpretation.\n",
      "  FutureWarning\n"
     ]
    },
    {
     "data": {
      "text/plain": [
       "<seaborn.axisgrid.JointGrid at 0x17e904438>"
      ]
     },
     "execution_count": 68,
     "metadata": {},
     "output_type": "execute_result"
    },
    {
     "data": {
      "image/png": "[encoded data removed]",
      "text/plain": [
       "<Figure size 432x432 with 3 Axes>"
      ]
     },
     "metadata": {
      "needs_background": "light"
     },
     "output_type": "display_data"
    }
   ],
   "source": [
    "sns.jointplot(dim1, dim2)"
   ]
  },
  {
   "cell_type": "code",
   "execution_count": 69,
   "id": "555b3778",
   "metadata": {},
   "outputs": [
    {
     "data": {
      "text/plain": [
       "326.98837209302326"
      ]
     },
     "execution_count": 69,
     "metadata": {},
     "output_type": "execute_result"
    }
   ],
   "source": [
    "np.mean(dim1)"
   ]
  },
  {
   "cell_type": "code",
   "execution_count": 70,
   "id": "4fd907cf",
   "metadata": {},
   "outputs": [
    {
     "data": {
      "text/plain": [
       "328.72093023255815"
      ]
     },
     "execution_count": 70,
     "metadata": {},
     "output_type": "execute_result"
    }
   ],
   "source": [
    "np.mean(dim2)"
   ]
  },
  {
   "cell_type": "code",
   "execution_count": 71,
   "id": "e6b4e56c",
   "metadata": {},
   "outputs": [],
   "source": [
    "image_shape=(326,328,3)"
   ]
  },
  {
   "cell_type": "code",
   "execution_count": 72,
   "id": "eac5ab2d",
   "metadata": {},
   "outputs": [
    {
     "data": {
      "text/plain": [
       "320784"
      ]
     },
     "execution_count": 72,
     "metadata": {},
     "output_type": "execute_result"
    }
   ],
   "source": [
    "326*328*3"
   ]
  },
  {
   "cell_type": "code",
   "execution_count": 73,
   "id": "e03aab97",
   "metadata": {},
   "outputs": [],
   "source": [
    "from tensorflow.keras.preprocessing.image import ImageDataGenerator"
   ]
  },
  {
   "cell_type": "code",
   "execution_count": 78,
   "id": "a66dd094",
   "metadata": {},
   "outputs": [
    {
     "data": {
      "text/plain": [
       "252"
      ]
     },
     "execution_count": 78,
     "metadata": {},
     "output_type": "execute_result"
    }
   ],
   "source": [
    "imread(has_cancer).max()"
   ]
  },
  {
   "cell_type": "code",
   "execution_count": 85,
   "id": "2ab399d9",
   "metadata": {},
   "outputs": [],
   "source": [
    "image_gen = ImageDataGenerator(rotation_range=20,   \n",
    "                               width_shift_range=0.1,\n",
    "                               height_shift_range=0.1,\n",
    "                               rescale=1/255,\n",
    "                               shear_range=0.1,\n",
    "                               zoom_range=0.1,\n",
    "                               horizontal_flip=True,\n",
    "                               fill_mode='nearest')"
   ]
  },
  {
   "cell_type": "code",
   "execution_count": 90,
   "id": "63c75ff5",
   "metadata": {},
   "outputs": [],
   "source": [
    "has_cancer = imread(has_cancer)"
   ]
  },
  {
   "cell_type": "code",
   "execution_count": 91,
   "id": "8fa0dddf",
   "metadata": {},
   "outputs": [
    {
     "data": {
      "text/plain": [
       "<matplotlib.image.AxesImage at 0x17edab588>"
      ]
     },
     "execution_count": 91,
     "metadata": {},
     "output_type": "execute_result"
    },
    {
     "data": {
      "image/png": "[encoded data removed]",
      "text/plain": [
       "<Figure size 432x288 with 1 Axes>"
      ]
     },
     "metadata": {
      "needs_background": "light"
     },
     "output_type": "display_data"
    }
   ],
   "source": [
    "plt.imshow(image_gen.random_transform(has_cancer))"
   ]
  },
  {
   "cell_type": "code",
   "execution_count": 92,
   "id": "17f1994b",
   "metadata": {},
   "outputs": [
    {
     "name": "stdout",
     "output_type": "stream",
     "text": [
      "Found 2944 images belonging to 2 classes.\n"
     ]
    },
    {
     "data": {
      "text/plain": [
       "<tensorflow.python.keras.preprocessing.image.DirectoryIterator at 0x17edd07b8>"
      ]
     },
     "execution_count": 92,
     "metadata": {},
     "output_type": "execute_result"
    }
   ],
   "source": [
    "image_gen.flow_from_directory(train_path)"
   ]
  },
  {
   "cell_type": "code",
   "execution_count": 93,
   "id": "ed114f6e",
   "metadata": {},
   "outputs": [
    {
     "name": "stdout",
     "output_type": "stream",
     "text": [
      "Found 258 images belonging to 1 classes.\n"
     ]
    },
    {
     "data": {
      "text/plain": [
       "<tensorflow.python.keras.preprocessing.image.DirectoryIterator at 0x17ede0f98>"
      ]
     },
     "execution_count": 93,
     "metadata": {},
     "output_type": "execute_result"
    }
   ],
   "source": [
    "image_gen.flow_from_directory(train_path + '/yes')"
   ]
  },
  {
   "cell_type": "code",
   "execution_count": 94,
   "id": "fabd4b07",
   "metadata": {},
   "outputs": [],
   "source": [
    "from tensorflow.keras.models import Sequential"
   ]
  },
  {
   "cell_type": "code",
   "execution_count": 97,
   "id": "662a7307",
   "metadata": {},
   "outputs": [],
   "source": [
    "from tensorflow.keras.layers import Dense,Conv2D,MaxPool2D,Dropout,Flatten"
   ]
  },
  {
   "cell_type": "code",
   "execution_count": 98,
   "id": "c45a4299",
   "metadata": {},
   "outputs": [],
   "source": [
    "model = Sequential()\n",
    "\n",
    "model.add(Conv2D(filters=32,kernel_size=(3,3),input_shape=image_shape,activation='relu'))\n",
    "model.add(MaxPool2D(pool_size=(2,2)))\n",
    "model.add(Conv2D(filters=64,kernel_size=(3,3),input_shape=image_shape,activation='relu'))\n",
    "model.add(MaxPool2D(pool_size=(2,2)))\n",
    "model.add(Conv2D(filters=64,kernel_size=(3,3),input_shape=image_shape,activation='relu'))\n",
    "model.add(MaxPool2D(pool_size=(2,2)))\n",
    "\n",
    "model.add(Flatten())\n",
    "\n",
    "model.add(Dense(128,activation='relu'))\n",
    "model.add(Dropout(0.5))\n",
    "\n",
    "model.add(Dense(1, activation='sigmoid'))\n",
    "\n",
    "model.compile(loss='binary_crossentropy',optimizer='adam', metrics=['accuracy'])"
   ]
  },
  {
   "cell_type": "code",
   "execution_count": 99,
   "id": "070fa3be",
   "metadata": {},
   "outputs": [
    {
     "name": "stdout",
     "output_type": "stream",
     "text": [
      "Model: \"sequential_1\"\n",
      "_________________________________________________________________\n",
      "Layer (type)                 Output Shape              Param #   \n",
      "=================================================================\n",
      "conv2d (Conv2D)              (None, 324, 326, 32)      896       \n",
      "_________________________________________________________________\n",
      "max_pooling2d (MaxPooling2D) (None, 162, 163, 32)      0         \n",
      "_________________________________________________________________\n",
      "conv2d_1 (Conv2D)            (None, 160, 161, 64)      18496     \n",
      "_________________________________________________________________\n",
      "max_pooling2d_1 (MaxPooling2 (None, 80, 80, 64)        0         \n",
      "_________________________________________________________________\n",
      "conv2d_2 (Conv2D)            (None, 78, 78, 64)        36928     \n",
      "_________________________________________________________________\n",
      "max_pooling2d_2 (MaxPooling2 (None, 39, 39, 64)        0         \n",
      "_________________________________________________________________\n",
      "flatten (Flatten)            (None, 97344)             0         \n",
      "_________________________________________________________________\n",
      "dense (Dense)                (None, 128)               12460160  \n",
      "_________________________________________________________________\n",
      "dropout (Dropout)            (None, 128)               0         \n",
      "_________________________________________________________________\n",
      "dense_1 (Dense)              (None, 1)                 129       \n",
      "=================================================================\n",
      "Total params: 12,516,609\n",
      "Trainable params: 12,516,609\n",
      "Non-trainable params: 0\n",
      "_________________________________________________________________\n"
     ]
    }
   ],
   "source": [
    "model.summary()"
   ]
  },
  {
   "cell_type": "code",
   "execution_count": 147,
   "id": "e9580517",
   "metadata": {},
   "outputs": [
    {
     "name": "stdout",
     "output_type": "stream",
     "text": [
      "Model: \"sequential_10\"\n",
      "_________________________________________________________________\n",
      "Layer (type)                 Output Shape              Param #   \n",
      "=================================================================\n",
      "conv2d_43 (Conv2D)           (None, 82, 82, 96)        34944     \n",
      "_________________________________________________________________\n",
      "batch_normalization_72 (Batc (None, 82, 82, 96)        384       \n",
      "_________________________________________________________________\n",
      "activation_72 (Activation)   (None, 82, 82, 96)        0         \n",
      "_________________________________________________________________\n",
      "max_pooling2d_27 (MaxPooling (None, 41, 41, 96)        0         \n",
      "_________________________________________________________________\n",
      "conv2d_44 (Conv2D)           (None, 41, 41, 256)       614656    \n",
      "_________________________________________________________________\n",
      "batch_normalization_73 (Batc (None, 41, 41, 256)       1024      \n",
      "_________________________________________________________________\n",
      "activation_73 (Activation)   (None, 41, 41, 256)       0         \n",
      "_________________________________________________________________\n",
      "max_pooling2d_28 (MaxPooling (None, 21, 21, 256)       0         \n",
      "_________________________________________________________________\n",
      "conv2d_45 (Conv2D)           (None, 21, 21, 384)       885120    \n",
      "_________________________________________________________________\n",
      "batch_normalization_74 (Batc (None, 21, 21, 384)       1536      \n",
      "_________________________________________________________________\n",
      "activation_74 (Activation)   (None, 21, 21, 384)       0         \n",
      "_________________________________________________________________\n",
      "conv2d_46 (Conv2D)           (None, 21, 21, 384)       1327488   \n",
      "_________________________________________________________________\n",
      "batch_normalization_75 (Batc (None, 21, 21, 384)       1536      \n",
      "_________________________________________________________________\n",
      "activation_75 (Activation)   (None, 21, 21, 384)       0         \n",
      "_________________________________________________________________\n",
      "conv2d_47 (Conv2D)           (None, 21, 21, 256)       884992    \n",
      "_________________________________________________________________\n",
      "batch_normalization_76 (Batc (None, 21, 21, 256)       1024      \n",
      "_________________________________________________________________\n",
      "activation_76 (Activation)   (None, 21, 21, 256)       0         \n",
      "_________________________________________________________________\n",
      "max_pooling2d_29 (MaxPooling (None, 11, 11, 256)       0         \n",
      "_________________________________________________________________\n",
      "flatten_9 (Flatten)          (None, 30976)             0         \n",
      "_________________________________________________________________\n",
      "dense_34 (Dense)             (None, 4096)              126881792 \n",
      "_________________________________________________________________\n",
      "batch_normalization_77 (Batc (None, 4096)              16384     \n",
      "_________________________________________________________________\n",
      "activation_77 (Activation)   (None, 4096)              0         \n",
      "_________________________________________________________________\n",
      "dropout_25 (Dropout)         (None, 4096)              0         \n",
      "_________________________________________________________________\n",
      "dense_35 (Dense)             (None, 4096)              16781312  \n",
      "_________________________________________________________________\n",
      "batch_normalization_78 (Batc (None, 4096)              16384     \n",
      "_________________________________________________________________\n",
      "activation_78 (Activation)   (None, 4096)              0         \n",
      "_________________________________________________________________\n",
      "dropout_26 (Dropout)         (None, 4096)              0         \n",
      "_________________________________________________________________\n",
      "dense_36 (Dense)             (None, 1000)              4097000   \n",
      "_________________________________________________________________\n",
      "batch_normalization_79 (Batc (None, 1000)              4000      \n",
      "_________________________________________________________________\n",
      "activation_79 (Activation)   (None, 1000)              0         \n",
      "_________________________________________________________________\n",
      "dropout_27 (Dropout)         (None, 1000)              0         \n",
      "_________________________________________________________________\n",
      "dense_37 (Dense)             (None, 1)                 1001      \n",
      "_________________________________________________________________\n",
      "batch_normalization_80 (Batc (None, 1)                 4         \n",
      "_________________________________________________________________\n",
      "activation_80 (Activation)   (None, 1)                 0         \n",
      "=================================================================\n",
      "Total params: 151,550,581\n",
      "Trainable params: 151,529,443\n",
      "Non-trainable params: 21,138\n",
      "_________________________________________________________________\n"
     ]
    }
   ],
   "source": [
    "#Importing library\n",
    "import keras\n",
    "from keras.models import Sequential\n",
    "from keras.layers import Dense, Activation, Dropout, Flatten, Conv2D, MaxPooling2D\n",
    "from keras.layers.normalization import BatchNormalization\n",
    "import numpy as np\n",
    "\n",
    "np.random.seed(1000)\n",
    "\n",
    "#Instantiation\n",
    "AlexNet = Sequential()\n",
    "\n",
    "input_shape=(326,328,3)\n",
    "\n",
    "#1st Convolutional Layer\n",
    "AlexNet.add(Conv2D(filters=96, input_shape=input_shape, kernel_size=(11,11), strides=(4,4), padding='same'))\n",
    "AlexNet.add(BatchNormalization())\n",
    "AlexNet.add(Activation('relu'))\n",
    "AlexNet.add(MaxPooling2D(pool_size=(2,2), strides=(2,2), padding='same'))\n",
    "\n",
    "#2nd Convolutional Layer\n",
    "AlexNet.add(Conv2D(filters=256, kernel_size=(5, 5), strides=(1,1), padding='same'))\n",
    "AlexNet.add(BatchNormalization())\n",
    "AlexNet.add(Activation('relu'))\n",
    "AlexNet.add(MaxPooling2D(pool_size=(2,2), strides=(2,2), padding='same'))\n",
    "\n",
    "#3rd Convolutional Layer\n",
    "AlexNet.add(Conv2D(filters=384, kernel_size=(3,3), strides=(1,1), padding='same'))\n",
    "AlexNet.add(BatchNormalization())\n",
    "AlexNet.add(Activation('relu'))\n",
    "\n",
    "#4th Convolutional Layer\n",
    "AlexNet.add(Conv2D(filters=384, kernel_size=(3,3), strides=(1,1), padding='same'))\n",
    "AlexNet.add(BatchNormalization())\n",
    "AlexNet.add(Activation('relu'))\n",
    "\n",
    "#5th Convolutional Layer\n",
    "AlexNet.add(Conv2D(filters=256, kernel_size=(3,3), strides=(1,1), padding='same'))\n",
    "AlexNet.add(BatchNormalization())\n",
    "AlexNet.add(Activation('relu'))\n",
    "AlexNet.add(MaxPooling2D(pool_size=(2,2), strides=(2,2), padding='same'))\n",
    "\n",
    "#Passing it to a Fully Connected layer\n",
    "AlexNet.add(Flatten())\n",
    "# 1st Fully Connected Layer\n",
    "AlexNet.add(Dense(4096, input_shape=input_shape))\n",
    "AlexNet.add(BatchNormalization())\n",
    "AlexNet.add(Activation('relu'))\n",
    "# Add Dropout to prevent overfitting\n",
    "AlexNet.add(Dropout(0.4))\n",
    "\n",
    "#2nd Fully Connected Layer\n",
    "AlexNet.add(Dense(4096))\n",
    "AlexNet.add(BatchNormalization())\n",
    "AlexNet.add(Activation('relu'))\n",
    "#Add Dropout\n",
    "AlexNet.add(Dropout(0.4))\n",
    "\n",
    "#3rd Fully Connected Layer\n",
    "AlexNet.add(Dense(1000))\n",
    "AlexNet.add(BatchNormalization())\n",
    "AlexNet.add(Activation('relu'))\n",
    "#Add Dropout\n",
    "AlexNet.add(Dropout(0.4))\n",
    "\n",
    "#Output Layer\n",
    "AlexNet.add(Dense(1))\n",
    "AlexNet.add(BatchNormalization())\n",
    "AlexNet.add(Activation('sigmoid'))\n",
    "\n",
    "#Model Summary\n",
    "AlexNet.summary()"
   ]
  },
  {
   "cell_type": "code",
   "execution_count": 134,
   "id": "61a45663",
   "metadata": {},
   "outputs": [],
   "source": [
    "batch_size = 16"
   ]
  },
  {
   "cell_type": "code",
   "execution_count": 135,
   "id": "793f0540",
   "metadata": {
    "scrolled": true
   },
   "outputs": [
    {
     "name": "stdout",
     "output_type": "stream",
     "text": [
      "Found 2944 images belonging to 2 classes.\n"
     ]
    }
   ],
   "source": [
    "train_image_gen = image_gen.flow_from_directory(train_path, target_size=image_shape[:2],color_mode='rgb',batch_size=batch_size,class_mode='binary')"
   ]
  },
  {
   "cell_type": "code",
   "execution_count": 136,
   "id": "9f0c6cd4",
   "metadata": {},
   "outputs": [
    {
     "name": "stdout",
     "output_type": "stream",
     "text": [
      "Found 555 images belonging to 2 classes.\n"
     ]
    }
   ],
   "source": [
    "test_image_gen = image_gen.flow_from_directory(test_path, target_size=image_shape[:2],color_mode='rgb',batch_size=batch_size,shuffle=False,class_mode='binary')"
   ]
  },
  {
   "cell_type": "code",
   "execution_count": 148,
   "id": "64787fab",
   "metadata": {},
   "outputs": [],
   "source": [
    "AlexNet.compile(loss = keras.losses.binary_crossentropy, optimizer= 'adam', metrics=['accuracy'])"
   ]
  },
  {
   "cell_type": "code",
   "execution_count": 149,
   "id": "8ccf6987",
   "metadata": {},
   "outputs": [
    {
     "name": "stdout",
     "output_type": "stream",
     "text": [
      "Epoch 1/20\n",
      "184/184 [==============================] - 286s 2s/step - loss: 0.5915 - accuracy: 0.6916 - val_loss: 1.6599 - val_accuracy: 0.8450\n",
      "Epoch 2/20\n",
      "184/184 [==============================] - 294s 2s/step - loss: 0.5032 - accuracy: 0.7525 - val_loss: 0.2527 - val_accuracy: 0.9081\n",
      "Epoch 3/20\n",
      "184/184 [==============================] - 299s 2s/step - loss: 0.4525 - accuracy: 0.8096 - val_loss: 0.1820 - val_accuracy: 0.9297\n",
      "Epoch 4/20\n",
      "184/184 [==============================] - 292s 2s/step - loss: 0.4013 - accuracy: 0.8473 - val_loss: 0.3200 - val_accuracy: 0.8919\n",
      "Epoch 5/20\n",
      "184/184 [==============================] - 308s 2s/step - loss: 0.3742 - accuracy: 0.8537 - val_loss: 0.3770 - val_accuracy: 0.8757\n",
      "Epoch 6/20\n",
      "184/184 [==============================] - 328s 2s/step - loss: 0.3575 - accuracy: 0.8619 - val_loss: 0.4206 - val_accuracy: 0.8090\n",
      "Epoch 7/20\n",
      "184/184 [==============================] - 304s 2s/step - loss: 0.3384 - accuracy: 0.8719 - val_loss: 0.2129 - val_accuracy: 0.9207\n",
      "Epoch 8/20\n",
      "184/184 [==============================] - 315s 2s/step - loss: 0.2940 - accuracy: 0.9052 - val_loss: 1.1937 - val_accuracy: 0.3964\n",
      "Epoch 9/20\n",
      "184/184 [==============================] - 1928s 11s/step - loss: 0.2935 - accuracy: 0.8927 - val_loss: 0.2743 - val_accuracy: 0.8919\n",
      "Epoch 10/20\n",
      "184/184 [==============================] - 299s 2s/step - loss: 0.2652 - accuracy: 0.9138 - val_loss: 0.2742 - val_accuracy: 0.8793\n",
      "Epoch 11/20\n",
      "184/184 [==============================] - 309s 2s/step - loss: 0.2663 - accuracy: 0.9007 - val_loss: 0.1481 - val_accuracy: 0.9676\n",
      "Epoch 12/20\n",
      "184/184 [==============================] - 314s 2s/step - loss: 0.2470 - accuracy: 0.9156 - val_loss: 0.2360 - val_accuracy: 0.9045\n",
      "Epoch 13/20\n",
      "184/184 [==============================] - 343s 2s/step - loss: 0.2201 - accuracy: 0.9285 - val_loss: 0.2053 - val_accuracy: 0.9189\n",
      "Epoch 14/20\n",
      "184/184 [==============================] - 367s 2s/step - loss: 0.2405 - accuracy: 0.9080 - val_loss: 0.4250 - val_accuracy: 0.8126\n",
      "Epoch 15/20\n",
      "184/184 [==============================] - 338s 2s/step - loss: 0.2064 - accuracy: 0.9312 - val_loss: 0.2345 - val_accuracy: 0.9279\n",
      "Epoch 16/20\n",
      "184/184 [==============================] - 323s 2s/step - loss: 0.2031 - accuracy: 0.9347 - val_loss: 0.1099 - val_accuracy: 0.9658\n",
      "Epoch 17/20\n",
      "184/184 [==============================] - 336s 2s/step - loss: 0.1993 - accuracy: 0.9312 - val_loss: 0.0893 - val_accuracy: 0.9712\n",
      "Epoch 18/20\n",
      "184/184 [==============================] - 334s 2s/step - loss: 0.1773 - accuracy: 0.9465 - val_loss: 0.5630 - val_accuracy: 0.7423\n",
      "Epoch 19/20\n",
      "184/184 [==============================] - 352s 2s/step - loss: 0.1752 - accuracy: 0.9378 - val_loss: 0.1057 - val_accuracy: 0.9694\n",
      "Epoch 20/20\n",
      "184/184 [==============================] - 358s 2s/step - loss: 0.1774 - accuracy: 0.9465 - val_loss: 0.1317 - val_accuracy: 0.9477\n"
     ]
    }
   ],
   "source": [
    "results = AlexNet.fit(train_image_gen, epochs=20, validation_data=test_image_gen)"
   ]
  },
  {
   "cell_type": "code",
   "execution_count": 151,
   "id": "e04358bb",
   "metadata": {},
   "outputs": [
    {
     "ename": "AttributeError",
     "evalue": "'History' object has no attribute 'save'",
     "output_type": "error",
     "traceback": [
      "\u001b[0;31m------------------------------------------------------------\u001b[0m",
      "\u001b[0;31mAttributeError\u001b[0m             Traceback (most recent call last)",
      "\u001b[0;32m<ipython-input-151-eb58bbab7314>\u001b[0m in \u001b[0;36m<module>\u001b[0;34m\u001b[0m\n\u001b[0;32m----> 1\u001b[0;31m \u001b[0mresults\u001b[0m\u001b[0;34m.\u001b[0m\u001b[0msave\u001b[0m\u001b[0;34m(\u001b[0m\u001b[0;34m)\u001b[0m\u001b[0;34m\u001b[0m\u001b[0;34m\u001b[0m\u001b[0m\n\u001b[0m",
      "\u001b[0;31mAttributeError\u001b[0m: 'History' object has no attribute 'save'"
     ]
    }
   ],
   "source": [
    "results.save()"
   ]
  },
  {
   "cell_type": "code",
   "execution_count": 153,
   "id": "77760f32",
   "metadata": {},
   "outputs": [],
   "source": [
    "AlexNet.save('alexnet-model.h5')"
   ]
  },
  {
   "cell_type": "code",
   "execution_count": 154,
   "id": "15afe995",
   "metadata": {},
   "outputs": [
    {
     "data": {
      "text/plain": [
       "{'loss': [0.5661863684654236,\n",
       "  0.5009593963623047,\n",
       "  0.4504397511482239,\n",
       "  0.4031929671764374,\n",
       "  0.37380483746528625,\n",
       "  0.34006020426750183,\n",
       "  0.3295244872570038,\n",
       "  0.3013071119785309,\n",
       "  0.27856776118278503,\n",
       "  0.28379327058792114,\n",
       "  0.24755144119262695,\n",
       "  0.24398300051689148,\n",
       "  0.22730854153633118,\n",
       "  0.21858544647693634,\n",
       "  0.21910281479358673,\n",
       "  0.18607039749622345,\n",
       "  0.18665625154972076,\n",
       "  0.1737411916255951,\n",
       "  0.17531263828277588,\n",
       "  0.17757795751094818],\n",
       " 'accuracy': [0.7116168737411499,\n",
       "  0.7629076242446899,\n",
       "  0.8101223111152649,\n",
       "  0.8383151888847351,\n",
       "  0.85495924949646,\n",
       "  0.873641312122345,\n",
       "  0.8760190010070801,\n",
       "  0.8960598111152649,\n",
       "  0.90455162525177,\n",
       "  0.9021739363670349,\n",
       "  0.9133831262588501,\n",
       "  0.91745924949646,\n",
       "  0.9239130616188049,\n",
       "  0.9225543737411499,\n",
       "  0.9228940010070801,\n",
       "  0.9395380616188049,\n",
       "  0.937160313129425,\n",
       "  0.946671187877655,\n",
       "  0.9398776888847351,\n",
       "  0.9446331262588501],\n",
       " 'val_loss': [1.6598762273788452,\n",
       "  0.2526604235172272,\n",
       "  0.1819620579481125,\n",
       "  0.3200470805168152,\n",
       "  0.3769887387752533,\n",
       "  0.4205653965473175,\n",
       "  0.21290136873722076,\n",
       "  1.1936967372894287,\n",
       "  0.27426090836524963,\n",
       "  0.27416300773620605,\n",
       "  0.1480727344751358,\n",
       "  0.2360360026359558,\n",
       "  0.2052794098854065,\n",
       "  0.42499157786369324,\n",
       "  0.23446060717105865,\n",
       "  0.1098770946264267,\n",
       "  0.08929234743118286,\n",
       "  0.5630069971084595,\n",
       "  0.10565392673015594,\n",
       "  0.13167822360992432],\n",
       " 'val_accuracy': [0.8450450301170349,\n",
       "  0.908108115196228,\n",
       "  0.929729700088501,\n",
       "  0.8918918967247009,\n",
       "  0.8756756782531738,\n",
       "  0.8090090155601501,\n",
       "  0.9207206964492798,\n",
       "  0.3963963985443115,\n",
       "  0.8918918967247009,\n",
       "  0.8792792558670044,\n",
       "  0.9675675630569458,\n",
       "  0.9045044779777527,\n",
       "  0.9189189076423645,\n",
       "  0.8126125931739807,\n",
       "  0.9279279112815857,\n",
       "  0.9657657742500305,\n",
       "  0.9711712002754211,\n",
       "  0.7423423528671265,\n",
       "  0.9693693518638611,\n",
       "  0.9477477669715881]}"
      ]
     },
     "execution_count": 154,
     "metadata": {},
     "output_type": "execute_result"
    }
   ],
   "source": [
    "results.history"
   ]
  },
  {
   "cell_type": "code",
   "execution_count": null,
   "metadata": {},
   "outputs": [],
   "source": []
  }
 ],
 "metadata": {
  "kernelspec": {
   "display_name": "Python 3",
   "language": "python",
   "name": "python3"
  }
 },
 "nbformat": 4,
 "nbformat_minor": 5
}